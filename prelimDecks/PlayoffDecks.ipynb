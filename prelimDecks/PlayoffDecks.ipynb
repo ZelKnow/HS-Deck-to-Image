{
 "cells": [
  {
   "cell_type": "markdown",
   "metadata": {},
   "source": [
    "# Created by Riku Miyao (@YAYtears)"
   ]
  },
  {
   "cell_type": "code",
   "execution_count": 1,
   "metadata": {
    "collapsed": false
   },
   "outputs": [],
   "source": [
    "import csv\n",
    "from hearthstone.deckstrings import Deck\n",
    "import json\n",
    "#Python3 version https://python-pillow.org/\n",
    "from PIL import Image, ImageDraw, ImageFont"
   ]
  },
  {
   "cell_type": "code",
   "execution_count": 2,
   "metadata": {
    "collapsed": true
   },
   "outputs": [],
   "source": [
    "#https://github.com/HearthSim/Hearthstone-Deck-Tracker/tree/master/Resources/Tiles\n",
    "tile_url = 'Tiles/'\n",
    "#Might have to massage the csv file to have valid deck codes for every person\n",
    "decklists = '2017 HCT Americas Summer Playoffs Decklists.csv'\n",
    "#https://api.hearthstonejson.com/v1/latest/enUS/cards.collectible.json\n",
    "cards_json = 'cards.collectible.json'\n",
    "#stolen from https://deck.codes/ which was probably stolen from Hearthstone or HDT\n",
    "tile_container_number = 'resources/tile_container_number.png'\n",
    "tile_container_open = 'resources/tile_container_open.png'\n",
    "star = 'resources/star.png'\n",
    "\n",
    "#Where the images are generated, create an empty directory if you are running this the first time\n",
    "deck_url = 'AM/'\n",
    "deck_font = 'resources/Ubuntu-B.ttf'\n",
    "name_font = 'resources/NotoSansCJK-Bold.ttc'"
   ]
  },
  {
   "cell_type": "code",
   "execution_count": 3,
   "metadata": {
    "collapsed": false
   },
   "outputs": [],
   "source": [
    "card_dict = {}\n",
    "with open(cards_json) as json_file:\n",
    "    data = json.load(json_file)\n",
    "    for card in data:\n",
    "        card_dict[card['dbfId']] = card"
   ]
  },
  {
   "cell_type": "code",
   "execution_count": 4,
   "metadata": {
    "collapsed": true
   },
   "outputs": [],
   "source": [
    "def interpolate_color(minval, maxval, val, color_palette):\n",
    "    \"\"\" Computes intermediate RGB color of a value in the range of minval-maxval\n",
    "        based on color_palette representing the range. \"\"\"\n",
    "    #stack overflow is bae\n",
    "    max_index = len(color_palette)-1\n",
    "    v = float(val-minval) / float(maxval-minval) * max_index\n",
    "    i1, i2 = int(v), min(int(v)+1, max_index)\n",
    "    (r1, g1, b1, a1), (r2, g2, b2, a2) = color_palette[i1], color_palette[i2]\n",
    "    f = v - i1\n",
    "    return int(r1 + f*(r2-r1)), int(g1 + f*(g2-g1)), int(b1 + f*(b2-b1)), int(a1 + f*(a2-a1))"
   ]
  },
  {
   "cell_type": "code",
   "execution_count": 5,
   "metadata": {
    "collapsed": false
   },
   "outputs": [],
   "source": [
    "def find_code(text):\n",
    "    lines = text.strip().splitlines()\n",
    "    index = -1\n",
    "    while lines[index].endswith('Hearthstone.') or not lines[index].strip():\n",
    "        index-=1\n",
    "    return lines[index]\n",
    "def find_code_apac(text):\n",
    "    lines = text.strip().splitlines()\n",
    "    index = -1\n",
    "    while lines[index].startswith('#') or not lines[index].strip():\n",
    "        index-=1\n",
    "    return lines[index]\n",
    "def parse_deck(text):\n",
    "    try:\n",
    "        deck = Deck.from_deckstring(text)\n",
    "    except:\n",
    "        print(text)\n",
    "    return deck\n",
    "def deck_to_image(deck, name):\n",
    "    hero = card_dict[deck.heroes[0]]\n",
    "    imclass = Image.open('resources/{}.jpg'.format(hero['playerClass'].lower()))\n",
    "    cards = [(card_dict[x[0]],x[1]) for x in deck.cards]\n",
    "    cards.sort(key = lambda x:(x[0]['cost'], x[0]['name']))\n",
    "    width = 243\n",
    "    height = 39 * len(cards) + imclass.size[1]\n",
    "    xoff = 105\n",
    "    \n",
    "    master = Image.new('RGBA', (width, height))\n",
    "    for index, (card, count) in enumerate(cards):\n",
    "        image = '{}{}.png'.format(tile_url, card['id'])\n",
    "        im = Image.open(image)\n",
    "        minx = 105\n",
    "        maxx = 221\n",
    "        color_palette = [(41,48,58,255), (93, 68, 68, 0)]\n",
    "        master.paste(im, (xoff,3+39*index, xoff+130, 39*(index+1)-2))\n",
    "\n",
    "        gradient = Image.new('RGBA', (width, height))\n",
    "        draw = ImageDraw.Draw(gradient)\n",
    "        for x in range(20, minx):\n",
    "            draw.line([(x, 39*index), (x, 39*(index+1))], fill=color_palette[0])\n",
    "        for x in range(minx, maxx):\n",
    "            color = interpolate_color(minx, maxx, x, color_palette)\n",
    "            draw.line([(x, 39*index), (x, 39*(index+1))], fill=color)\n",
    "        \n",
    "        master = Image.alpha_composite(master, gradient)\n",
    "        draw = ImageDraw.Draw(master)\n",
    "        font = ImageFont.truetype(deck_font, 15)\n",
    "        draw.text((39, 10+39*index), card['name'], font=font)\n",
    "        if count==2:\n",
    "            bg = Image.open(tile_container_number)\n",
    "            master.paste(bg, (0,39*index, 239, 39*(index+1)), bg)\n",
    "            font = ImageFont.truetype(deck_font, 16)\n",
    "            w, h = draw.textsize('2', font=font)\n",
    "            draw.text(((30-w)/2+209,(39-h)/2+39*index), '2', font=font, fill=(229, 181, 68))\n",
    "        elif card['rarity']=='LEGENDARY':\n",
    "            bg = Image.open(tile_container_number)\n",
    "            master.paste(bg, (0,39*index, 239, 39*(index+1)), bg)\n",
    "            imstar = Image.open(star)\n",
    "            master.paste(imstar, (214, 39*index+10, 233, 39*index+29), imstar)\n",
    "        else:\n",
    "            bg = Image.open(tile_container_open)\n",
    "            master.paste(bg, (0,39*index, 239, 39*(index+1)), bg)\n",
    "        msg = str(card['cost'])\n",
    "        w, h = draw.textsize(msg, font=font)\n",
    "        font = ImageFont.truetype(deck_font, 16)\n",
    "        draw.text(((34-w)/2, (39-h)/2+39*index), str(card['cost']), font=font)\n",
    "        #draw.text()\n",
    "    decklist = master.crop((0,0,243,39*len(cards)))\n",
    "    master.paste(decklist, (0,97,243,39*len(cards)+97))\n",
    "    master.paste(imclass, (0,0,243,97))\n",
    "    font = ImageFont.truetype(name_font, 19)\n",
    "    w,h = draw.textsize('{} {}'.format(name, hero['playerClass']), font=font)\n",
    "    draw.text((22, 75-h), '{} {}'.format(name, hero['playerClass'][0]+hero['playerClass'][1:].lower()), font=font)\n",
    "    return master"
   ]
  },
  {
   "cell_type": "code",
   "execution_count": 6,
   "metadata": {
    "collapsed": true
   },
   "outputs": [],
   "source": [
    "def merge(imgs):\n",
    "    width = sum(x.size[0] for x in imgs)\n",
    "    height = max(x.size[1] for x in imgs)\n",
    "    master = Image.new('RGBA', (width, height))\n",
    "    x = 0\n",
    "    for img in imgs:\n",
    "        w,h = img.size\n",
    "        master.paste(img, (x, 0, x+w, h), img)\n",
    "        x+=w\n",
    "    return master"
   ]
  },
  {
   "cell_type": "code",
   "execution_count": 7,
   "metadata": {
    "collapsed": false
   },
   "outputs": [],
   "source": [
    "def process_EU():\n",
    "    with open(decklists) as csvfile:\n",
    "        deckreader = csv.reader(csvfile, delimiter = ',', quotechar='\"')\n",
    "        decks = list(deckreader)\n",
    "        for row in decks:\n",
    "            name = row[0]\n",
    "            deck_imgs = []\n",
    "            for deck in row[1:]:\n",
    "                decklist = find_code(deck)\n",
    "                deck = parse_deck(decklist)\n",
    "                img = deck_to_image(deck, name)\n",
    "                deck_imgs.append(img)\n",
    "            img = merge(deck_imgs)\n",
    "            img.save('{}{}.jpg'.format(deck_url,name), 'JPEG')"
   ]
  },
  {
   "cell_type": "code",
   "execution_count": 8,
   "metadata": {
    "collapsed": false
   },
   "outputs": [],
   "source": [
    "def process_AP():\n",
    "    x = []\n",
    "    with open(decklists) as csvfile:\n",
    "        deckreader = csv.reader(csvfile, delimiter = ',', quotechar='\"')\n",
    "        decks = list(deckreader)\n",
    "        for row in decks:\n",
    "            name = row[0]\n",
    "            deck_imgs = []\n",
    "            for deck in row[1:]:\n",
    "                decklist = find_code_apac(deck)\n",
    "                if 'imgur' not in decklist:\n",
    "                    deck = parse_deck(decklist)\n",
    "                    img = deck_to_image(deck, name)\n",
    "                    deck_imgs.append(img)\n",
    "            if len(deck_imgs)>0:\n",
    "                img = merge(deck_imgs)\n",
    "                img.save('{}{}.jpg'.format(deck_url,name), 'JPEG')\n",
    "            x.append(name)\n",
    "    for a in sorted(x, key=str.upper):\n",
    "        print(a)"
   ]
  },
  {
   "cell_type": "code",
   "execution_count": 10,
   "metadata": {
    "collapsed": false,
    "scrolled": true
   },
   "outputs": [
    {
     "name": "stdout",
     "output_type": "stream",
     "text": [
      "amnesiasc\n",
      "Ananta\n",
      "Apxvoid\n",
      "Astrogation\n",
      "aznpatrickh\n",
      "baenugget\n",
      "bLAKERS\n",
      "caravaggio8\n",
      "CelticGuard\n",
      "Cerwindhunt\n",
      "CmaccompH\n",
      "Cydonia\n",
      "denker\n",
      "DerpyTroller\n",
      "DPacman\n",
      "DrJikininki\n",
      "Empanizado\n",
      "ESOGloktaF2P\n",
      "ETC\n",
      "Fenom\n",
      "Fibonacci\n",
      "Fishyyy\n",
      "Freohr\n",
      "Gallon\n",
      "Guiyze\n",
      "HotMEOWTH\n",
      "icer\n",
      "Ike\n",
      "Izzy\n",
      "JBmonaco\n",
      "Joaquin\n",
      "justsaiyan\n",
      "JuzamDjinn\n",
      "k3nny\n",
      "killinallday\n",
      "Klei\n",
      "Kuonet\n",
      "Luker\n",
      "Monsanto\n",
      "Moosey\n",
      "muzzy\n",
      "Nalguidan\n",
      "nerdcube\n",
      "noblord\n",
      "PHONETAP\n",
      "Pinche\n",
      "pksnow\n",
      "PNC\n",
      "Purple\n",
      "Qwerty97\n",
      "Rase\n",
      "rayC\n",
      "rosty\n",
      "Rpbalance\n",
      "seohyun628\n",
      "Squid\n",
      "Stark\n",
      "Tarei\n",
      "Teebs\n",
      "thelast\n",
      "Tincho\n",
      "topopablo11\n",
      "UchihaSaske\n",
      "Willscarlet\n",
      "Xelerato\n",
      "YAYtears\n",
      "yinus\n",
      "yoitsflo\n",
      "zalae\n",
      "zlsjs\n"
     ]
    }
   ],
   "source": [
    "process_AP()"
   ]
  },
  {
   "cell_type": "code",
   "execution_count": null,
   "metadata": {
    "collapsed": true
   },
   "outputs": [],
   "source": []
  }
 ],
 "metadata": {
  "kernelspec": {
   "display_name": "Python 3",
   "language": "python",
   "name": "python3"
  },
  "language_info": {
   "codemirror_mode": {
    "name": "ipython",
    "version": 3
   },
   "file_extension": ".py",
   "mimetype": "text/x-python",
   "name": "python",
   "nbconvert_exporter": "python",
   "pygments_lexer": "ipython3",
   "version": "3.4.5"
  }
 },
 "nbformat": 4,
 "nbformat_minor": 0
}
